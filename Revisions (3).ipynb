{
  "cells": [
    {
      "cell_type": "markdown",
      "metadata": {
        "id": "_UXIRx2YgQGK"
      },
      "source": [
        "# Setting things up\n",
        "\n",
        "This year we will be using three concepts of modern computing which will make working remotely more feasible. Interactive coding (with [Jupyter notebooks](https://jupyter.org/)), cloud computing (with [Google Colab](https://colab.research.google.com/)), and version control (with [Github](https://github.com/)).\n",
        "\n",
        "Bellow is the guide you will have to follow. Do ask questions if things are not clear ! You will have to use two _free_ accounts, one for [GitHub](https://github.com/) and one for [Google Colab](https://colab.research.google.com/).\n",
        "\n",
        "To get started:\n",
        "1. Setting up your access to the GitHub classroom.\n",
        "    1. Sign up to a _free_ account on [GitHub](https://github.com/). Pick a username that starts with `Lastname-Firstname-`.\n",
        "    2. Get the `week1_revision` assignment link from [LearningCentral](https://learningcentral.cf.ac.uk/) to accept the first assignment.\n",
        "    3. The first time you accept an assignment from [GitHub Classroom](classroom.github.com) you will have to `Authorize GitHub Classroom` in your GitHub account by clicking the green \"Authorize github\" button: ![Autorize github](https://raw.githubusercontent.com/PX2134/images/master/week1/Authorize_github.png)\n",
        "    4. Next you can \"Accept this assignment\": ![Accept this assignment](https://raw.githubusercontent.com/PX2134/images/master/week1/Accept_this_assignment.png)\n",
        "    5. Finally, you should see the \"Ready to go\" page: ![ready to go](https://raw.githubusercontent.com/PX2134/images/master/week1/ready_to_go.png)\n",
        "    6. Click on the link for your \"repository\" to get started.\n",
        "2. Now that you have access to the worksheet, let's set things up so you can run _in the cloud_ (on a remote computer without your direct management).\n",
        "    1. Sign up to a _free_ [account](https://accounts.google.com/sigNup) on Google if you don't have one.\n",
        "    2. Navigate to https://colab.research.google.com. You will land by default on the [introduction](https://colab.research.google.com/notebooks/intro.ipynb) page. Read it, and read the [overview](https://colab.research.google.com/notebooks/basic_features_overview.ipynb) page, it's a good introduction to how Jupyter notebooks work, and in particular how they are run on Google colab.\n",
        "    3. Now that you have an understanding of Jupyter notebooks, we will load this week's worksheet in colab. On https://colab.research.google.com sign in with your Google account using the blue button in the top right: ![Welcome to colab](https://raw.githubusercontent.com/PX2134/images/master/week1/Welcome_to_colab.png)\n",
        "    4. In the menu, click on \"File\" -> \"Open Notebook\". The following should appear: ![New file](https://raw.githubusercontent.com/PX2134/images/master/week1/New_file.png)\n",
        "    5. On that window, click on the \"Github\" tab, and tick the \"Include private repos\" box. This will prompt an authorization pop-up. **Important**: you need to allow pop-up windows in your browser for colab.research.google.com. ![Authorize googlecolab](https://raw.githubusercontent.com/PX2134/images/master/week1/Authorize_googlecolab.png)\n",
        "    6. Confirm your **GitHub** password to give googlecolab access to your GitHub account: ![Confirm password](https://raw.githubusercontent.com/PX2134/images/master/week1/Confirm_password.png)\n",
        "    7. You should now able to access the assignment directly in google colab, on your own copy which includes your github username in the name: ![open github](https://raw.githubusercontent.com/PX2134/images/master/week1/open_github.png)\n",
        "    8. Click on `Revision.ipynb` to open the worksheet in google colab, where you can run it and modify it. You can also open the exercise sheets from the same screen. **To submit your changes back to GitHub for checking, go to \"File\" -> \"Save a copy in GitHub\"**. You should do this often: some assignments come with tests that are run on GitHub and let you know how you are doing. See [GitHub classroom autograding test](https://classroom.github.com/help/reviewing-auto-graded-work-students) for details. **Only the very last version saved on GitHub before the deadline will be assessed.**.\n",
        "\n",
        "# Why such a set-up?\n",
        "\n",
        "We are working online \"in the cloud\", and this is how almost all modern computing is done: both in scientific research and industrial applications. As such, in addition to make online working easier, we are taking this opportunity to get used to this concept in practice.\n",
        "\n",
        "Jupyter notebooks are used in many applications, from machine learning to scientific publications, and in particular within all fields of data science. For instance, Gravitational-wave observations are shared with Jupyter notebooks, e.g. [GW190814](https://dcc.ligo.org/P2000183/public). Google, IBM, Microsoft use it regularly. It's a very good way to share computational ideas with rich documentation (using [markdown](https://colab.research.google.com/notebooks/markdown_guide.ipynb)), and is in particular great for plotting.\n",
        "**However**:\n",
        "* Do be careful of \"hidden state\" (same as with the `IPython` interpreter you use with `Spyder`): do make sure your code works in a new _clean_ environment, as it might be remembering variables or functions whose code you deleted. In Colab: `Runtime`->`restart Runtime`, in Anaconda's Jupyter: `Kernel`->`Restart`. The possibility to execute cells in different order is very flexible but dangerous (with great power ...). To help you out, the notebooks are being run from scratch automatically each time you submit your work. Again, only the very last submission is ever assessed.\n",
        "* In addition, do note that if you end up doing a *lot* of coding, notebooks are not the right place where to do it. They are instead where you use software libraries develloped directly in python. This modular approach will be shown in week2.\n",
        "\n",
        "Version control system, such as the open-source `git` software, are ubiquitous in modern software engineering. GitHub happens to be one of the most used online service that hosts a `git` system. Think of pretty much any open-source code that you use: `numpy`, `matplotlib`, `scipy`, ... they are all available on GitHub. Employers will accept someone's GitHub history as a demonstration of coding proficiency.\n",
        "\n",
        "# Notes:\n",
        "\n",
        "1. You can use your own installation of [Jupyter notebooks](https://jupyter.org/), for instance with [Anaconda3](https://www.anaconda.com/distribution/#download-section). In which case you can use the GitHub web-interface for each assignments to download the worksheets and upload your solutions. You might also find [GitHub Desktop](https://desktop.github.com/) convenient. However Google Colab  does guarantee a working environment, where submitting assignments is straightforward.\n",
        "2. The google colab [overview](https://colab.research.google.com/notebooks/basic_features_overview.ipynb) is a good starting point for Jupyter notebooks.\n",
        "3. For future assignments, you will only need to go through steps:\n",
        "   * 1.B get the assignment link from Learning Central\n",
        "   * 1.D click on \"Accept this assignment\"\n",
        "   * 1.F click on the repository link\n",
        "   * 2.B got to colab.research.google.com\n",
        "   * 2.D,E open the assigment in colab\n",
        "3. Be careful about your environment remembering variables. Make sure your code works in a new _clean_ environment. In Colab: `Runtime`->`restart Runtime`, in Anaconda's Jupyter: `Kernel`->`Restart`.\n",
        "4. Always explore the options of Python functions using the in-built help or refer to https://docs.scipy.org/ and https://www.python.org/doc/.\n",
        "\n",
        "For this week we will use the following imports:"
      ]
    },
    {
      "cell_type": "code",
      "execution_count": 108,
      "metadata": {
        "id": "Slcpn7JSgQGM"
      },
      "outputs": [],
      "source": [
        "from numpy import linspace, loadtxt, savetxt, column_stack\n",
        "from numpy.random import rand\n",
        "\n",
        "# NOTE1: Do avoid the `import *` command: this causes you do not\n",
        "# know anymore what is loaded in your environment. It is better\n",
        "# to be explicit.\n",
        "\n",
        "# NOTE2: now that we have imported those packages and modules to this\n",
        "# worksheet, they are available throughout, so no need to re-import\n",
        "# them for each exercise below.\n",
        "\n",
        "# NOTE3: You may want to use additional imports to do the exercises at the end\n",
        "# of the worksheet."
      ]
    },
    {
      "cell_type": "markdown",
      "metadata": {
        "id": "npAUYgvQgQGM"
      },
      "source": [
        "# Introduction\n",
        "\n",
        "As it might have been some time since you last did some Python programming, we start by revising the core material you will have covered last year. Remember, there is plenty of online documentation and examples which you should look at, especially The [Python Tutorial](http://docs.python.org/tutorial/), on which much of this material is based.\n",
        "You should try out the following code snippets and make sure you understand them. Then work through the Worksheet, which will help consolidate the Python programming you did in PX1224.\n",
        "\n",
        "## `if` statements"
      ]
    },
    {
      "cell_type": "code",
      "execution_count": 84,
      "metadata": {
        "colab": {
          "base_uri": "https://localhost:8080/"
        },
        "id": "BkLAVIJMgQGM",
        "outputId": "f0288cc1-93ed-492c-b01c-1d79fd6dd2db"
      },
      "outputs": [
        {
          "output_type": "stream",
          "name": "stdout",
          "text": [
            "x is less than y\n",
            "x is not equal to y\n"
          ]
        }
      ],
      "source": [
        "x, y = 6, 7 # try various values here\n",
        "if x < y:\n",
        "    print ('x is less than y')\n",
        "elif x > y:\n",
        "    print ('x is greater than y')\n",
        "else:\n",
        "    print ('x equals y')\n",
        "\n",
        "if x != y:\n",
        "    print('x is not equal to y')"
      ]
    },
    {
      "cell_type": "code",
      "execution_count": 85,
      "metadata": {
        "colab": {
          "base_uri": "https://localhost:8080/"
        },
        "id": "DrVTJ4negQGN",
        "outputId": "e1f75a3d-5866-487c-eed6-5e5abf509800"
      },
      "outputs": [
        {
          "output_type": "stream",
          "name": "stdout",
          "text": [
            "x greater than 0.3 0.5412945983998815\n"
          ]
        }
      ],
      "source": [
        "x = rand()  # generates a single random number between 0 and 1\n",
        "if x < 0.1:\n",
        "    x = 0\n",
        "    print('x less than 0.1. Changed to zero', x)\n",
        "elif x < 0.3:\n",
        "    print('x less than 0.3', x)\n",
        "else:\n",
        "    print('x greater than 0.3', x)"
      ]
    },
    {
      "cell_type": "markdown",
      "metadata": {
        "id": "ynqahueLgQGN"
      },
      "source": [
        "## `while` loop\n",
        "What does the code below do? Modify it to run the previous if statement code multiple\n",
        "times."
      ]
    },
    {
      "cell_type": "code",
      "execution_count": 86,
      "metadata": {
        "colab": {
          "base_uri": "https://localhost:8080/"
        },
        "id": "EUcEZiu4gQGN",
        "outputId": "5cec6db0-7a6d-4b55-cc5e-e9fe5d22af70"
      },
      "outputs": [
        {
          "output_type": "stream",
          "name": "stdout",
          "text": [
            "Got n=1.9975 after 845 tries\n"
          ]
        }
      ],
      "source": [
        "n=0             # starting number\n",
        "counter=0       # iteration number\n",
        "while n<1.99:   # running the following until n >= 0.99\n",
        "    n = 2*(rand())  # get a random number between 0 and 1\n",
        "    counter+=1  # increase the counter by one\n",
        "\n",
        "print(\"Got n={:.4f} after {} tries\".format(n,counter))"
      ]
    },
    {
      "cell_type": "markdown",
      "metadata": {
        "id": "Cno6oLv7gQGN"
      },
      "source": [
        "You might want to break out of the while loop. One way is something like this:"
      ]
    },
    {
      "cell_type": "code",
      "execution_count": 87,
      "metadata": {
        "colab": {
          "base_uri": "https://localhost:8080/"
        },
        "id": "kc9BPSRigQGN",
        "outputId": "cd263725-5983-4f12-cdd1-0e352a82c468"
      },
      "outputs": [
        {
          "output_type": "stream",
          "name": "stdout",
          "text": [
            "90 0.9973820788152028\n"
          ]
        }
      ],
      "source": [
        "n=0\n",
        "counter=0\n",
        "max_counter=100\n",
        "while n<0.99:\n",
        "    n = rand()\n",
        "    counter+=1\n",
        "    if counter > max_counter:\n",
        "        print(\"It's taking longer than {} tries, exiting while loop.\".format(max_counter))\n",
        "        break\n",
        "print(counter,n)"
      ]
    },
    {
      "cell_type": "markdown",
      "metadata": {
        "id": "ZcyYE630gQGN"
      },
      "source": [
        "You can also ask the user for input, in which case the syntax ```while True:```, which causes the code to run uninterupted, can be useful:\n",
        "```python\n",
        "print(\"Type 'quit' to quit !\")\n",
        "while True:\n",
        "    a = input()\n",
        "    print (a)\n",
        "    if a = 'quit':\n",
        "        break\n",
        "```\n"
      ]
    },
    {
      "cell_type": "markdown",
      "metadata": {
        "id": "GT-FQVoygQGN"
      },
      "source": [
        "## `for` loop\n",
        "\n",
        "We all love for loops. IMPORTANT - make sure you fully understand a for loop."
      ]
    },
    {
      "cell_type": "code",
      "execution_count": 88,
      "metadata": {
        "colab": {
          "base_uri": "https://localhost:8080/"
        },
        "id": "KmmDP1gNgQGO",
        "outputId": "f2c7b5d4-d329-4e2a-dc37-34d4fefda0aa"
      },
      "outputs": [
        {
          "output_type": "stream",
          "name": "stdout",
          "text": [
            "1\n",
            "1\n",
            "2\n",
            "4\n",
            "3\n",
            "9\n",
            "4\n",
            "16\n",
            "5\n",
            "25\n",
            "6\n",
            "36\n",
            "7\n",
            "49\n",
            "8\n",
            "64\n",
            "9\n",
            "81\n",
            "10\n",
            "100\n",
            "11\n",
            "121\n",
            "12\n",
            "144\n",
            "13\n",
            "169\n",
            "14\n",
            "196\n",
            "15\n",
            "225\n",
            "16\n",
            "256\n",
            "17\n",
            "289\n",
            "18\n",
            "324\n",
            "19\n",
            "361\n",
            "20\n",
            "400\n",
            "21\n",
            "441\n",
            "22\n",
            "484\n",
            "23\n",
            "529\n",
            "24\n",
            "576\n",
            "25\n",
            "625\n",
            "26\n",
            "676\n",
            "27\n",
            "729\n",
            "28\n",
            "784\n",
            "29\n",
            "841\n",
            "30\n",
            "900\n",
            "31\n",
            "961\n",
            "32\n",
            "1024\n",
            "33\n",
            "1089\n",
            "34\n",
            "1156\n",
            "35\n",
            "1225\n",
            "36\n",
            "1296\n",
            "37\n",
            "1369\n",
            "38\n",
            "1444\n",
            "39\n",
            "1521\n",
            "40\n",
            "1600\n",
            "41\n",
            "1681\n",
            "42\n",
            "1764\n",
            "43\n",
            "1849\n",
            "44\n",
            "1936\n",
            "45\n",
            "2025\n",
            "46\n",
            "2116\n",
            "47\n",
            "2209\n",
            "48\n",
            "2304\n",
            "49\n",
            "2401\n",
            "50\n",
            "2500\n",
            "51\n",
            "2601\n",
            "52\n",
            "2704\n",
            "53\n",
            "2809\n",
            "54\n",
            "2916\n",
            "55\n",
            "3025\n",
            "56\n",
            "3136\n",
            "57\n",
            "3249\n",
            "58\n",
            "3364\n",
            "59\n",
            "3481\n",
            "60\n",
            "3600\n",
            "61\n",
            "3721\n",
            "62\n",
            "3844\n",
            "63\n",
            "3969\n",
            "64\n",
            "4096\n",
            "65\n",
            "4225\n",
            "66\n",
            "4356\n",
            "67\n",
            "4489\n",
            "68\n",
            "4624\n",
            "69\n",
            "4761\n",
            "70\n",
            "4900\n",
            "71\n",
            "5041\n",
            "72\n",
            "5184\n",
            "73\n",
            "5329\n",
            "74\n",
            "5476\n",
            "75\n",
            "5625\n",
            "76\n",
            "5776\n",
            "77\n",
            "5929\n",
            "78\n",
            "6084\n",
            "79\n",
            "6241\n",
            "80\n",
            "6400\n",
            "81\n",
            "6561\n",
            "82\n",
            "6724\n",
            "83\n",
            "6889\n",
            "84\n",
            "7056\n",
            "85\n",
            "7225\n",
            "86\n",
            "7396\n",
            "87\n",
            "7569\n",
            "88\n",
            "7744\n",
            "89\n",
            "7921\n",
            "90\n",
            "8100\n",
            "91\n",
            "8281\n",
            "92\n",
            "8464\n",
            "93\n",
            "8649\n",
            "94\n",
            "8836\n",
            "95\n",
            "9025\n",
            "96\n",
            "9216\n",
            "97\n",
            "9409\n",
            "98\n",
            "9604\n",
            "99\n",
            "9801\n"
          ]
        }
      ],
      "source": [
        "for i in range(1, 100):\n",
        "    print(i)\n",
        "    print((i**2))"
      ]
    },
    {
      "cell_type": "markdown",
      "metadata": {
        "id": "lFpcDe0OgQGO"
      },
      "source": [
        "Verify what the range function does. What is the starting and ending value of i? How can you step in different increments? How can you step through non-integer values?\n",
        "Read also https://docs.python.org/3/tutorial/controlflow.html#for-statements. (This page talks about lists because, remember, arrays are a feature of NumPy rather than Python itself.)"
      ]
    },
    {
      "cell_type": "markdown",
      "metadata": {
        "id": "ABkaAxcugQGO"
      },
      "source": [
        "## Lists and list comprehension\n",
        "\n",
        "You’ll remember that you can make a list of anything (often numbers in our applications) like this for example:"
      ]
    },
    {
      "cell_type": "code",
      "execution_count": 89,
      "metadata": {
        "colab": {
          "base_uri": "https://localhost:8080/"
        },
        "id": "RzholNV8gQGO",
        "outputId": "c45d2880-b154-4d64-bea8-274ea096f15a"
      },
      "outputs": [
        {
          "output_type": "stream",
          "name": "stdout",
          "text": [
            "[1, 2, 'red', 'green'] 4\n",
            "red\n",
            "[1, 2, 'red', 'green', 1, 2, 'red', 'green']\n"
          ]
        }
      ],
      "source": [
        "a = [1, 2, 'red', 'green']\n",
        "print (a, len(a))\n",
        "print (a[2])\n",
        "print (2*a)\n"
      ]
    },
    {
      "cell_type": "markdown",
      "metadata": {
        "id": "xod2-dBOgQGO"
      },
      "source": [
        "Note that 2*a just doubles the list – it doesn’t double the value of each item.\n",
        "\n",
        "NEW: Here’s a simple way to make a list of items, which you have not met before, but can be very handy:"
      ]
    },
    {
      "cell_type": "code",
      "execution_count": 90,
      "metadata": {
        "colab": {
          "base_uri": "https://localhost:8080/"
        },
        "id": "UkzkH7c0gQGO",
        "outputId": "90061c26-ecab-4fbc-f07e-60c6a8d15e36"
      },
      "outputs": [
        {
          "output_type": "stream",
          "name": "stdout",
          "text": [
            "[0.0, 1.0, 4.0, 9.0, 16.0, 25.0, 36.0, 49.0, 64.0, 81.0]\n"
          ]
        }
      ],
      "source": [
        "a = [i for i in range(10)] # list comprehension print (a)\n",
        "a = [float(i*i) for i in range(10)]\n",
        "print (a)\n",
        "a = [float(i*i + 3) for i in range(10) if i % 2 == 0]"
      ]
    },
    {
      "cell_type": "markdown",
      "metadata": {
        "id": "f07jLPcRgQGO"
      },
      "source": [
        "The last example selects even values of i only.\n",
        "\n",
        "## Arrays (part of numpy)\n",
        "\n",
        "Look at week 2 of the PX1224 notes to remind yourself about more details. For now, make sure you can generate a numpy array in the following way:"
      ]
    },
    {
      "cell_type": "code",
      "execution_count": 91,
      "metadata": {
        "colab": {
          "base_uri": "https://localhost:8080/"
        },
        "id": "qmw5euNGgQGO",
        "outputId": "158f54f7-fe84-4ad1-99b0-1d21a70604f3"
      },
      "outputs": [
        {
          "output_type": "stream",
          "name": "stdout",
          "text": [
            "[0.  0.1 0.2 0.3 0.4 0.5 0.6 0.7 0.8 0.9 1. ]\n"
          ]
        }
      ],
      "source": [
        "a_min, a_max, n = 0, 1, 11\n",
        "a = linspace (a_min , a_max , n)\n",
        "print (a)"
      ]
    },
    {
      "cell_type": "markdown",
      "metadata": {
        "id": "hkNmwJPPgQGO"
      },
      "source": [
        "Try this out for different values and print to the screen.\n",
        "\n",
        "## Writing and reading arrays to/from files\n",
        "\n",
        "See also [numpy.loadtxt](http://docs.scipy.org/doc/numpy/reference/generated/numpy.loadtxt.html). Use a text editor (you can do this in Spyder itself) to write several lines of data to a file. Then look at the following code snippets. Make sure you follow what they do.\n",
        "\n",
        "Read data from the file [data.txt](https://raw.githubusercontent.com/PX2134/data/master/week1/data.txt) into an array y, and skip the first row.\n",
        "**Note**: to upload the data to colab, either download onto your computer and right-click \"upload\" on the folder menu in the left-hand side bar, or run:\n",
        "```\n",
        "! wget <link to file>\n",
        "```\n",
        "e.g.:"
      ]
    },
    {
      "cell_type": "code",
      "execution_count": 92,
      "metadata": {
        "id": "m5UgOl-3gQGP"
      },
      "outputs": [],
      "source": [
        "! wget -q https://raw.githubusercontent.com/PX2134/data/master/week1/data.txt"
      ]
    },
    {
      "cell_type": "code",
      "execution_count": 93,
      "metadata": {
        "id": "JqOgmwkPgQGP"
      },
      "outputs": [],
      "source": [
        "y = loadtxt('data.txt', skiprows=1)"
      ]
    },
    {
      "cell_type": "markdown",
      "metadata": {
        "id": "z8D5urv2gQGP"
      },
      "source": [
        "Read data from a file object `f` into an array a"
      ]
    },
    {
      "cell_type": "code",
      "execution_count": 94,
      "metadata": {
        "id": "F0j2VHCdgQGP"
      },
      "outputs": [],
      "source": [
        "f=open('data.txt')\n",
        "y=loadtxt(f)"
      ]
    },
    {
      "cell_type": "markdown",
      "metadata": {
        "id": "dAuVkDnngQGP"
      },
      "source": [
        "Create an array y and write it into a file named `data2.txt`, specifying a different `delimiter`:"
      ]
    },
    {
      "cell_type": "code",
      "execution_count": 95,
      "metadata": {
        "id": "TBkFAZtigQGP"
      },
      "outputs": [],
      "source": [
        "savetxt('data2.txt', y, delimiter=',')"
      ]
    },
    {
      "cell_type": "markdown",
      "metadata": {
        "id": "1T23qTwYgQGP"
      },
      "source": [
        "Take a look at the resulting text file by opening it with the Spyder editor.\n",
        "\n",
        "## NEW: Pandas\n",
        "\n",
        "There is a Python module called pandas which you might find useful for reading and handling data.\n",
        "You can find out more at http://pandas.pydata.org/ and a short introduction at http://pythonhow.com/data-analysis-with-python-pandas. This is not a requirement for the rest of the course, but just one more way to do things which you might find interesting.\n",
        "\n",
        "\n",
        "For example, it is easy to read the csv (comma separated variable) formatted file `example.csv`. As before, either download and upload [example.csv](https://raw.githubusercontent.com/PX2134/data/master/week1/example.csv) yourself, or:"
      ]
    },
    {
      "cell_type": "code",
      "execution_count": 96,
      "metadata": {
        "id": "MTvJUoqwgQGP"
      },
      "outputs": [],
      "source": [
        "! wget -q https://raw.githubusercontent.com/PX2134/data/master/week1/example.csv"
      ]
    },
    {
      "cell_type": "markdown",
      "metadata": {
        "id": "uofRCUCvgQGP"
      },
      "source": [
        "To read it in, you can simply do:"
      ]
    },
    {
      "cell_type": "code",
      "execution_count": 97,
      "metadata": {
        "id": "IalfE4ajgQGP"
      },
      "outputs": [],
      "source": [
        "import pandas as pd # useful for reading csv data files\n",
        "df = pd.read_csv('example.csv')"
      ]
    },
    {
      "cell_type": "code",
      "execution_count": 98,
      "metadata": {
        "colab": {
          "base_uri": "https://localhost:8080/",
          "height": 206
        },
        "id": "Zl2qZwdVgQGP",
        "outputId": "c0b200c0-47f6-4119-d702-ec945a3c569e"
      },
      "outputs": [
        {
          "output_type": "execute_result",
          "data": {
            "text/plain": [
              "   A     B\n",
              "0  1   1.0\n",
              "1  2   4.0\n",
              "2  3   9.0\n",
              "3  4  16.0\n",
              "4  5  25.0"
            ],
            "text/html": [
              "\n",
              "  <div id=\"df-45d569ba-3088-4550-9c1e-4d8c9177eb25\" class=\"colab-df-container\">\n",
              "    <div>\n",
              "<style scoped>\n",
              "    .dataframe tbody tr th:only-of-type {\n",
              "        vertical-align: middle;\n",
              "    }\n",
              "\n",
              "    .dataframe tbody tr th {\n",
              "        vertical-align: top;\n",
              "    }\n",
              "\n",
              "    .dataframe thead th {\n",
              "        text-align: right;\n",
              "    }\n",
              "</style>\n",
              "<table border=\"1\" class=\"dataframe\">\n",
              "  <thead>\n",
              "    <tr style=\"text-align: right;\">\n",
              "      <th></th>\n",
              "      <th>A</th>\n",
              "      <th>B</th>\n",
              "    </tr>\n",
              "  </thead>\n",
              "  <tbody>\n",
              "    <tr>\n",
              "      <th>0</th>\n",
              "      <td>1</td>\n",
              "      <td>1.0</td>\n",
              "    </tr>\n",
              "    <tr>\n",
              "      <th>1</th>\n",
              "      <td>2</td>\n",
              "      <td>4.0</td>\n",
              "    </tr>\n",
              "    <tr>\n",
              "      <th>2</th>\n",
              "      <td>3</td>\n",
              "      <td>9.0</td>\n",
              "    </tr>\n",
              "    <tr>\n",
              "      <th>3</th>\n",
              "      <td>4</td>\n",
              "      <td>16.0</td>\n",
              "    </tr>\n",
              "    <tr>\n",
              "      <th>4</th>\n",
              "      <td>5</td>\n",
              "      <td>25.0</td>\n",
              "    </tr>\n",
              "  </tbody>\n",
              "</table>\n",
              "</div>\n",
              "    <div class=\"colab-df-buttons\">\n",
              "\n",
              "  <div class=\"colab-df-container\">\n",
              "    <button class=\"colab-df-convert\" onclick=\"convertToInteractive('df-45d569ba-3088-4550-9c1e-4d8c9177eb25')\"\n",
              "            title=\"Convert this dataframe to an interactive table.\"\n",
              "            style=\"display:none;\">\n",
              "\n",
              "  <svg xmlns=\"http://www.w3.org/2000/svg\" height=\"24px\" viewBox=\"0 -960 960 960\">\n",
              "    <path d=\"M120-120v-720h720v720H120Zm60-500h600v-160H180v160Zm220 220h160v-160H400v160Zm0 220h160v-160H400v160ZM180-400h160v-160H180v160Zm440 0h160v-160H620v160ZM180-180h160v-160H180v160Zm440 0h160v-160H620v160Z\"/>\n",
              "  </svg>\n",
              "    </button>\n",
              "\n",
              "  <style>\n",
              "    .colab-df-container {\n",
              "      display:flex;\n",
              "      gap: 12px;\n",
              "    }\n",
              "\n",
              "    .colab-df-convert {\n",
              "      background-color: #E8F0FE;\n",
              "      border: none;\n",
              "      border-radius: 50%;\n",
              "      cursor: pointer;\n",
              "      display: none;\n",
              "      fill: #1967D2;\n",
              "      height: 32px;\n",
              "      padding: 0 0 0 0;\n",
              "      width: 32px;\n",
              "    }\n",
              "\n",
              "    .colab-df-convert:hover {\n",
              "      background-color: #E2EBFA;\n",
              "      box-shadow: 0px 1px 2px rgba(60, 64, 67, 0.3), 0px 1px 3px 1px rgba(60, 64, 67, 0.15);\n",
              "      fill: #174EA6;\n",
              "    }\n",
              "\n",
              "    .colab-df-buttons div {\n",
              "      margin-bottom: 4px;\n",
              "    }\n",
              "\n",
              "    [theme=dark] .colab-df-convert {\n",
              "      background-color: #3B4455;\n",
              "      fill: #D2E3FC;\n",
              "    }\n",
              "\n",
              "    [theme=dark] .colab-df-convert:hover {\n",
              "      background-color: #434B5C;\n",
              "      box-shadow: 0px 1px 3px 1px rgba(0, 0, 0, 0.15);\n",
              "      filter: drop-shadow(0px 1px 2px rgba(0, 0, 0, 0.3));\n",
              "      fill: #FFFFFF;\n",
              "    }\n",
              "  </style>\n",
              "\n",
              "    <script>\n",
              "      const buttonEl =\n",
              "        document.querySelector('#df-45d569ba-3088-4550-9c1e-4d8c9177eb25 button.colab-df-convert');\n",
              "      buttonEl.style.display =\n",
              "        google.colab.kernel.accessAllowed ? 'block' : 'none';\n",
              "\n",
              "      async function convertToInteractive(key) {\n",
              "        const element = document.querySelector('#df-45d569ba-3088-4550-9c1e-4d8c9177eb25');\n",
              "        const dataTable =\n",
              "          await google.colab.kernel.invokeFunction('convertToInteractive',\n",
              "                                                    [key], {});\n",
              "        if (!dataTable) return;\n",
              "\n",
              "        const docLinkHtml = 'Like what you see? Visit the ' +\n",
              "          '<a target=\"_blank\" href=https://colab.research.google.com/notebooks/data_table.ipynb>data table notebook</a>'\n",
              "          + ' to learn more about interactive tables.';\n",
              "        element.innerHTML = '';\n",
              "        dataTable['output_type'] = 'display_data';\n",
              "        await google.colab.output.renderOutput(dataTable, element);\n",
              "        const docLink = document.createElement('div');\n",
              "        docLink.innerHTML = docLinkHtml;\n",
              "        element.appendChild(docLink);\n",
              "      }\n",
              "    </script>\n",
              "  </div>\n",
              "\n",
              "\n",
              "    <div id=\"df-8bf6228a-d4cf-455c-a925-218b796a7e54\">\n",
              "      <button class=\"colab-df-quickchart\" onclick=\"quickchart('df-8bf6228a-d4cf-455c-a925-218b796a7e54')\"\n",
              "                title=\"Suggest charts\"\n",
              "                style=\"display:none;\">\n",
              "\n",
              "<svg xmlns=\"http://www.w3.org/2000/svg\" height=\"24px\"viewBox=\"0 0 24 24\"\n",
              "     width=\"24px\">\n",
              "    <g>\n",
              "        <path d=\"M19 3H5c-1.1 0-2 .9-2 2v14c0 1.1.9 2 2 2h14c1.1 0 2-.9 2-2V5c0-1.1-.9-2-2-2zM9 17H7v-7h2v7zm4 0h-2V7h2v10zm4 0h-2v-4h2v4z\"/>\n",
              "    </g>\n",
              "</svg>\n",
              "      </button>\n",
              "\n",
              "<style>\n",
              "  .colab-df-quickchart {\n",
              "      --bg-color: #E8F0FE;\n",
              "      --fill-color: #1967D2;\n",
              "      --hover-bg-color: #E2EBFA;\n",
              "      --hover-fill-color: #174EA6;\n",
              "      --disabled-fill-color: #AAA;\n",
              "      --disabled-bg-color: #DDD;\n",
              "  }\n",
              "\n",
              "  [theme=dark] .colab-df-quickchart {\n",
              "      --bg-color: #3B4455;\n",
              "      --fill-color: #D2E3FC;\n",
              "      --hover-bg-color: #434B5C;\n",
              "      --hover-fill-color: #FFFFFF;\n",
              "      --disabled-bg-color: #3B4455;\n",
              "      --disabled-fill-color: #666;\n",
              "  }\n",
              "\n",
              "  .colab-df-quickchart {\n",
              "    background-color: var(--bg-color);\n",
              "    border: none;\n",
              "    border-radius: 50%;\n",
              "    cursor: pointer;\n",
              "    display: none;\n",
              "    fill: var(--fill-color);\n",
              "    height: 32px;\n",
              "    padding: 0;\n",
              "    width: 32px;\n",
              "  }\n",
              "\n",
              "  .colab-df-quickchart:hover {\n",
              "    background-color: var(--hover-bg-color);\n",
              "    box-shadow: 0 1px 2px rgba(60, 64, 67, 0.3), 0 1px 3px 1px rgba(60, 64, 67, 0.15);\n",
              "    fill: var(--button-hover-fill-color);\n",
              "  }\n",
              "\n",
              "  .colab-df-quickchart-complete:disabled,\n",
              "  .colab-df-quickchart-complete:disabled:hover {\n",
              "    background-color: var(--disabled-bg-color);\n",
              "    fill: var(--disabled-fill-color);\n",
              "    box-shadow: none;\n",
              "  }\n",
              "\n",
              "  .colab-df-spinner {\n",
              "    border: 2px solid var(--fill-color);\n",
              "    border-color: transparent;\n",
              "    border-bottom-color: var(--fill-color);\n",
              "    animation:\n",
              "      spin 1s steps(1) infinite;\n",
              "  }\n",
              "\n",
              "  @keyframes spin {\n",
              "    0% {\n",
              "      border-color: transparent;\n",
              "      border-bottom-color: var(--fill-color);\n",
              "      border-left-color: var(--fill-color);\n",
              "    }\n",
              "    20% {\n",
              "      border-color: transparent;\n",
              "      border-left-color: var(--fill-color);\n",
              "      border-top-color: var(--fill-color);\n",
              "    }\n",
              "    30% {\n",
              "      border-color: transparent;\n",
              "      border-left-color: var(--fill-color);\n",
              "      border-top-color: var(--fill-color);\n",
              "      border-right-color: var(--fill-color);\n",
              "    }\n",
              "    40% {\n",
              "      border-color: transparent;\n",
              "      border-right-color: var(--fill-color);\n",
              "      border-top-color: var(--fill-color);\n",
              "    }\n",
              "    60% {\n",
              "      border-color: transparent;\n",
              "      border-right-color: var(--fill-color);\n",
              "    }\n",
              "    80% {\n",
              "      border-color: transparent;\n",
              "      border-right-color: var(--fill-color);\n",
              "      border-bottom-color: var(--fill-color);\n",
              "    }\n",
              "    90% {\n",
              "      border-color: transparent;\n",
              "      border-bottom-color: var(--fill-color);\n",
              "    }\n",
              "  }\n",
              "</style>\n",
              "\n",
              "      <script>\n",
              "        async function quickchart(key) {\n",
              "          const quickchartButtonEl =\n",
              "            document.querySelector('#' + key + ' button');\n",
              "          quickchartButtonEl.disabled = true;  // To prevent multiple clicks.\n",
              "          quickchartButtonEl.classList.add('colab-df-spinner');\n",
              "          try {\n",
              "            const charts = await google.colab.kernel.invokeFunction(\n",
              "                'suggestCharts', [key], {});\n",
              "          } catch (error) {\n",
              "            console.error('Error during call to suggestCharts:', error);\n",
              "          }\n",
              "          quickchartButtonEl.classList.remove('colab-df-spinner');\n",
              "          quickchartButtonEl.classList.add('colab-df-quickchart-complete');\n",
              "        }\n",
              "        (() => {\n",
              "          let quickchartButtonEl =\n",
              "            document.querySelector('#df-8bf6228a-d4cf-455c-a925-218b796a7e54 button');\n",
              "          quickchartButtonEl.style.display =\n",
              "            google.colab.kernel.accessAllowed ? 'block' : 'none';\n",
              "        })();\n",
              "      </script>\n",
              "    </div>\n",
              "\n",
              "  <div id=\"id_123d8b06-3e52-4008-a279-9fdbe5d7a74b\">\n",
              "    <style>\n",
              "      .colab-df-generate {\n",
              "        background-color: #E8F0FE;\n",
              "        border: none;\n",
              "        border-radius: 50%;\n",
              "        cursor: pointer;\n",
              "        display: none;\n",
              "        fill: #1967D2;\n",
              "        height: 32px;\n",
              "        padding: 0 0 0 0;\n",
              "        width: 32px;\n",
              "      }\n",
              "\n",
              "      .colab-df-generate:hover {\n",
              "        background-color: #E2EBFA;\n",
              "        box-shadow: 0px 1px 2px rgba(60, 64, 67, 0.3), 0px 1px 3px 1px rgba(60, 64, 67, 0.15);\n",
              "        fill: #174EA6;\n",
              "      }\n",
              "\n",
              "      [theme=dark] .colab-df-generate {\n",
              "        background-color: #3B4455;\n",
              "        fill: #D2E3FC;\n",
              "      }\n",
              "\n",
              "      [theme=dark] .colab-df-generate:hover {\n",
              "        background-color: #434B5C;\n",
              "        box-shadow: 0px 1px 3px 1px rgba(0, 0, 0, 0.15);\n",
              "        filter: drop-shadow(0px 1px 2px rgba(0, 0, 0, 0.3));\n",
              "        fill: #FFFFFF;\n",
              "      }\n",
              "    </style>\n",
              "    <button class=\"colab-df-generate\" onclick=\"generateWithVariable('df')\"\n",
              "            title=\"Generate code using this dataframe.\"\n",
              "            style=\"display:none;\">\n",
              "\n",
              "  <svg xmlns=\"http://www.w3.org/2000/svg\" height=\"24px\"viewBox=\"0 0 24 24\"\n",
              "       width=\"24px\">\n",
              "    <path d=\"M7,19H8.4L18.45,9,17,7.55,7,17.6ZM5,21V16.75L18.45,3.32a2,2,0,0,1,2.83,0l1.4,1.43a1.91,1.91,0,0,1,.58,1.4,1.91,1.91,0,0,1-.58,1.4L9.25,21ZM18.45,9,17,7.55Zm-12,3A5.31,5.31,0,0,0,4.9,8.1,5.31,5.31,0,0,0,1,6.5,5.31,5.31,0,0,0,4.9,4.9,5.31,5.31,0,0,0,6.5,1,5.31,5.31,0,0,0,8.1,4.9,5.31,5.31,0,0,0,12,6.5,5.46,5.46,0,0,0,6.5,12Z\"/>\n",
              "  </svg>\n",
              "    </button>\n",
              "    <script>\n",
              "      (() => {\n",
              "      const buttonEl =\n",
              "        document.querySelector('#id_123d8b06-3e52-4008-a279-9fdbe5d7a74b button.colab-df-generate');\n",
              "      buttonEl.style.display =\n",
              "        google.colab.kernel.accessAllowed ? 'block' : 'none';\n",
              "\n",
              "      buttonEl.onclick = () => {\n",
              "        google.colab.notebook.generateWithVariable('df');\n",
              "      }\n",
              "      })();\n",
              "    </script>\n",
              "  </div>\n",
              "\n",
              "    </div>\n",
              "  </div>\n"
            ],
            "application/vnd.google.colaboratory.intrinsic+json": {
              "type": "dataframe",
              "variable_name": "df",
              "summary": "{\n  \"name\": \"df\",\n  \"rows\": 5,\n  \"fields\": [\n    {\n      \"column\": \"A\",\n      \"properties\": {\n        \"dtype\": \"number\",\n        \"std\": 1,\n        \"min\": 1,\n        \"max\": 5,\n        \"num_unique_values\": 5,\n        \"samples\": [\n          2,\n          5,\n          3\n        ],\n        \"semantic_type\": \"\",\n        \"description\": \"\"\n      }\n    },\n    {\n      \"column\": \"B\",\n      \"properties\": {\n        \"dtype\": \"number\",\n        \"std\": 9.669539802906858,\n        \"min\": 1.0,\n        \"max\": 25.0,\n        \"num_unique_values\": 5,\n        \"samples\": [\n          4.0,\n          25.0,\n          9.0\n        ],\n        \"semantic_type\": \"\",\n        \"description\": \"\"\n      }\n    }\n  ]\n}"
            }
          },
          "metadata": {},
          "execution_count": 98
        }
      ],
      "source": [
        "df"
      ]
    },
    {
      "cell_type": "markdown",
      "metadata": {
        "id": "M6KZBIDPgQGP"
      },
      "source": [
        "The variable df now contains all the data in the form of a `dataframe`. It is fairly easy to select the columns of data and to plot them out.\n",
        "If the csv file first line is a data header, as for [example.csv](https://raw.githubusercontent.com/PX2134/data/master/week1/example.csv), it is easy to refer to the columns using the header name."
      ]
    },
    {
      "cell_type": "code",
      "execution_count": 99,
      "metadata": {
        "colab": {
          "base_uri": "https://localhost:8080/",
          "height": 947
        },
        "id": "O7AanpHSgQGP",
        "outputId": "cb83515d-3f69-46fa-b6ad-981b3bd30480"
      },
      "outputs": [
        {
          "output_type": "stream",
          "name": "stdout",
          "text": [
            "   A     B\n",
            "0  1   1.0\n",
            "1  2   4.0\n",
            "2  3   9.0\n",
            "3  4  16.0\n",
            "4  5  25.0\n"
          ]
        },
        {
          "output_type": "display_data",
          "data": {
            "text/plain": [
              "<Figure size 640x480 with 1 Axes>"
            ],
            "image/png": "[encoded data removed]"
          },
          "metadata": {}
        },
        {
          "output_type": "display_data",
          "data": {
            "text/plain": [
              "<Figure size 640x480 with 1 Axes>"
            ],
            "image/png": "[encoded data removed]"
          },
          "metadata": {}
        }
      ],
      "source": [
        "print(df)\n",
        "df.plot() # plots both columns versus the index\n",
        "savefig('example.pdf')\n",
        "#clf() # depending on your set-up, you may need to clear the current figure with clf()\n",
        "df.plot(y='B')\n",
        "savefig('example2.pdf')\n",
        "#clf()"
      ]
    },
    {
      "cell_type": "markdown",
      "metadata": {
        "id": "GqxyZhaIgQGQ"
      },
      "source": [
        "Take a look at the file `example.csv` by opening it directly. You can also select which data to plot like this:"
      ]
    },
    {
      "cell_type": "code",
      "execution_count": 100,
      "metadata": {
        "colab": {
          "base_uri": "https://localhost:8080/",
          "height": 898
        },
        "id": "6k3O5MMygQGQ",
        "outputId": "c2043846-36b4-4c26-d250-18f88aa39a08"
      },
      "outputs": [
        {
          "output_type": "execute_result",
          "data": {
            "text/plain": [
              "<Axes: xlabel='B'>"
            ]
          },
          "metadata": {},
          "execution_count": 100
        },
        {
          "output_type": "display_data",
          "data": {
            "text/plain": [
              "<Figure size 640x480 with 1 Axes>"
            ],
            "image/png": "[encoded data removed]"
          },
          "metadata": {}
        },
        {
          "output_type": "display_data",
          "data": {
            "text/plain": [
              "<Figure size 640x480 with 1 Axes>"
            ],
            "image/png": "[encoded data removed]"
          },
          "metadata": {}
        }
      ],
      "source": [
        "df.plot(x='A', y='B')\n",
        "df.plot(x='B', y='A')"
      ]
    },
    {
      "cell_type": "markdown",
      "metadata": {
        "id": "go3_E82NgQGQ"
      },
      "source": [
        "Or like that:"
      ]
    },
    {
      "cell_type": "code",
      "execution_count": 110,
      "metadata": {
        "colab": {
          "base_uri": "https://localhost:8080/",
          "height": 430
        },
        "id": "YctiRHTugQGQ",
        "outputId": "648ffbf7-41d9-4de1-9465-d09442d1cb3c"
      },
      "outputs": [
        {
          "output_type": "display_data",
          "data": {
            "text/plain": [
              "<Figure size 640x480 with 1 Axes>"
            ],
            "image/png": "[encoded data removed]"
          },
          "metadata": {}
        }
      ],
      "source": [
        "import matplotlib.pyplot as plt\n",
        "f = loadtxt(\"data_ex.txt\")\n",
        "x = f[:,0]\n",
        "y = f[:,1]\n",
        "plot(x,y,\"ro\")\n",
        "plot(x,x**2,\"b\")\n",
        "plt.grid()"
      ]
    },
    {
      "cell_type": "markdown",
      "metadata": {
        "id": "lejdTUBUgQGQ"
      },
      "source": [
        "The `dataframe` object itself can also be manipulated:"
      ]
    },
    {
      "cell_type": "code",
      "execution_count": null,
      "metadata": {
        "id": "9jBbY2ShgQGQ"
      },
      "outputs": [],
      "source": [
        "df = df[['A']] # df contains just the 'A' column now\n",
        "df.plot() # plot all of df"
      ]
    },
    {
      "cell_type": "markdown",
      "metadata": {
        "id": "xyVZsEnegQGU"
      },
      "source": [
        "# Exercises\n",
        "\n",
        "This must be marked before you leave the lab. Mark weighting is in brackets.\n",
        "**Please save the programs that you write to solve the exercises. We may ask you to show us the code and run it to re-generate the results.** Do add comments to your code, you'll lose points if your code is hard to understand. Graphs without labels (or units when appropriate) are not worth any point.\n",
        "\n",
        "For this first week, the mark is for your information only, and will **not** count towards your overall mark for this class.\n",
        "\n",
        "## Exercise 0a\n",
        "[0] Compute the first 20 Fibonacci numbers. Save the result to a file called `Fibonacci.txt`\n",
        "\n",
        "(exercises 0 are for demonstration purposes and won't be marked)"
      ]
    },
    {
      "cell_type": "code",
      "execution_count": null,
      "metadata": {
        "id": "PYtXavBXgQGU"
      },
      "outputs": [],
      "source": [
        "f = open(\"Fibonacci.txt\",\"w\")\n",
        "\n",
        "a = 0\n",
        "b = 1\n",
        "f.write(str(a)+\",\")\n",
        "f.write(str(b)+\",\")\n",
        "for i in range (0,18):\n",
        "  if i % 2 == 0:\n",
        "    a = a+b\n",
        "    f.write(str(a)+\",\")\n",
        "  else:\n",
        "    b = a+b\n",
        "    f.write(str(b)+\",\")\n",
        "  i=i+1\n",
        "f.close()"
      ]
    },
    {
      "cell_type": "markdown",
      "metadata": {
        "id": "26Btop7kgQGU"
      },
      "source": [
        "## Exercise 0b\n",
        "[0] Read the result file `Fibonacci.txt` you created in the last exercise. From that data, plot the ratio of consecutive numbers in the Fibonacci sequence.\n",
        "\n",
        "(exercises 0 are for demonstration purposes and won't be marked)"
      ]
    },
    {
      "cell_type": "code",
      "execution_count": null,
      "metadata": {
        "id": "wNrRGh1BgQGU"
      },
      "outputs": [],
      "source": []
    },
    {
      "cell_type": "markdown",
      "metadata": {
        "id": "U7nwLQPHgQGU"
      },
      "source": [
        "## Exercise 1\n",
        "[2] Create two (equal length) arrays x_data and y_data within Python, and then save them to a file `data_ex.txt`. Remember that you can \"stack\" two 1-D arrays into a 2-D array with:\n",
        "```python\n",
        "c = column_stack([x_data, y_data])\n",
        "```\n",
        "Use x_data values 1, 2, 3, 4, 5. The y_data values should be 1.0, 3.9, 9.0, 16.2, 25.1."
      ]
    },
    {
      "cell_type": "code",
      "execution_count": null,
      "metadata": {
        "id": "NNFWIEFkgQGU"
      },
      "outputs": [],
      "source": [
        "x_data = [1,2,3,4,5]\n",
        "y_data = [1.0,3.9,9.0,16.2,25.1]\n",
        "c = column_stack([x_data, y_data])\n",
        "savetxt('data_ex.txt', c)"
      ]
    },
    {
      "cell_type": "markdown",
      "metadata": {
        "id": "0f8cmyZegQGU"
      },
      "source": [
        "## Exercise 2\n",
        "[4] Read in the data file `data_ex.txt` created in [Exercise 1](Exercise_1.ipynb) and plot a graph of the data as red points. (To access the file, you can download it to your computer from Exercise_1, and upload it on this notebook with the left-hand side menu). On the same graph plot the function $y = x^2$ as a blue line."
      ]
    },
    {
      "cell_type": "code",
      "source": [
        "import matplotlib.pyplot as plt\n",
        "f = loadtxt(\"data_ex.txt\")\n",
        "x = f[:,0]\n",
        "y = f[:,1]\n",
        "x2 = linspace(-5,5,100)\n",
        "plot(x,y,\"ro\")\n",
        "plot(x2,x2**2,\"b\")\n",
        "plt.grid()"
      ],
      "metadata": {
        "colab": {
          "base_uri": "https://localhost:8080/",
          "height": 430
        },
        "id": "YSo-bhYKsQGF",
        "outputId": "385b8567-2d0d-46ca-cf30-4458e0650d03"
      },
      "execution_count": 212,
      "outputs": [
        {
          "output_type": "display_data",
          "data": {
            "text/plain": [
              "<Figure size 640x480 with 1 Axes>"
            ],
            "image/png": "[encoded data removed]"
          },
          "metadata": {}
        }
      ]
    },
    {
      "cell_type": "markdown",
      "metadata": {
        "id": "3aPmvzBCgQGV"
      },
      "source": [
        "## Exercise 3\n",
        "[2] Plot the 2-D function $z = sin(x)sin(y-1)$ using `imshow()` (x,y and z are unrelated to the previous questions). Use mgrid or ogrid to create a 2D data array. (Set the origin to the lower left corner.)"
      ]
    },
    {
      "cell_type": "code",
      "execution_count": 133,
      "metadata": {
        "colab": {
          "base_uri": "https://localhost:8080/",
          "height": 447
        },
        "id": "AFyzkbY-gQGV",
        "outputId": "bcde5af6-eced-4a8d-ed0d-dd0b37ebfb87"
      },
      "outputs": [
        {
          "output_type": "execute_result",
          "data": {
            "text/plain": [
              "<matplotlib.image.AxesImage at 0x7bd085447e30>"
            ]
          },
          "metadata": {},
          "execution_count": 133
        },
        {
          "output_type": "display_data",
          "data": {
            "text/plain": [
              "<Figure size 640x480 with 1 Axes>"
            ],
            "image/png": "[encoded data removed]"
          },
          "metadata": {}
        }
      ],
      "source": [
        "import numpy as np\n",
        "x, y = np.mgrid[0:10:100j, 0:10:100j]\n",
        "z = np.sin(x)*np.sin(y-1)\n",
        "plt.imshow(z, origin='lower')"
      ]
    },
    {
      "cell_type": "markdown",
      "metadata": {
        "id": "bpVpiZ2jgQGV"
      },
      "source": [
        "## Exercise 4\n",
        "[7] Read in the data file `speed.txt` of the speed of an object versus time. To upload this file to colab, either download onto your computer and right-click \"upload\" on the folder menu in the left-hand side bar, or run:\n",
        "```\n",
        "! wget <link to file>\n",
        "```\n",
        "e.g.:\n",
        "\n",
        "```python\n",
        "! wget -q https://raw.githubusercontent.com/PX2134/data/master/week1/speed.txt\n",
        "```"
      ]
    },
    {
      "cell_type": "markdown",
      "metadata": {
        "id": "cFfCPHcQgQGV"
      },
      "source": [
        "Plot a graph to show the object’s position versus time. (Label axes etc. ...). You will need to integrate the speed (in the simplest way possible) to get the position."
      ]
    },
    {
      "cell_type": "code",
      "execution_count": 210,
      "metadata": {
        "colab": {
          "base_uri": "https://localhost:8080/",
          "height": 430
        },
        "id": "CGnzQsXHgQGV",
        "outputId": "655a7ffa-77d7-4792-f957-0c5bb1623fb8"
      },
      "outputs": [
        {
          "output_type": "display_data",
          "data": {
            "text/plain": [
              "<Figure size 640x480 with 1 Axes>"
            ],
            "image/png": "[encoded data removed]"
          },
          "metadata": {}
        }
      ],
      "source": [
        "from scipy import integrate as int\n",
        "a = loadtxt(\"speed.txt\", skiprows=1, delimiter=(\",\"))\n",
        "t=a[:,0]\n",
        "s=a[:,1]\n",
        "p = int.cumulative_trapezoid(s,t,initial=0)\n",
        "plt.plot(t,p)\n",
        "plt.grid()\n"
      ]
    },
    {
      "cell_type": "markdown",
      "metadata": {
        "id": "u2I39VC1gQGV"
      },
      "source": [
        "## Exercise 5\n",
        "[5] Read in the file [gridwatch.csv](https://raw.githubusercontent.com/PX2134/data/master/week1/gridwatch.csv) which was obtained from the web site http://www.gridwatch.templar.co.uk. To upload this file to colab, either download onto your computer and right-click \"upload\" on the folder menu in the left-hand side bar, or run:\n",
        "```\n",
        "! wget <link to file>\n",
        "```\n",
        "e.g.:\n",
        "```python\n",
        "! wget -q https://raw.githubusercontent.com/PX2134/data/master/week1/gridwatch.csv\n",
        "```"
      ]
    },
    {
      "cell_type": "markdown",
      "metadata": {
        "id": "dPC9fi5ZgQGV"
      },
      "source": [
        "To read in a csv (comma separated variable) file which contains dates like this one does, you can use:\n",
        "```python\n",
        "df = pd.read_csv('gridwatch.csv', parse_dates=['timestamp'])\n",
        "```\n",
        "Plot, on a single graph, the power usage (in MW) versus time for coal and wind\n",
        "energy. Save to file a plot like this:\n",
        "\n",
        "![UK power production](https://raw.githubusercontent.com/PX2134/images/master/week1/gridwatch.png \"Figure 1: UK power production versus time for coal and wind.\")"
      ]
    },
    {
      "cell_type": "code",
      "execution_count": 209,
      "metadata": {
        "colab": {
          "base_uri": "https://localhost:8080/",
          "height": 449
        },
        "id": "369spOMIgQGV",
        "outputId": "2af66557-e261-4ef0-836b-afc725e4b298"
      },
      "outputs": [
        {
          "output_type": "display_data",
          "data": {
            "text/plain": [
              "<Figure size 640x480 with 1 Axes>"
            ],
            "image/png": "[encoded data removed]"
          },
          "metadata": {}
        }
      ],
      "source": [
        "! wget -q https://raw.githubusercontent.com/PX2134/data/master/week1/gridwatch.csv\n",
        "df = pd.read_csv('gridwatch.csv', parse_dates=['timestamp'])\n",
        "df.plot(x='timestamp', y=['coal','wind'])\n",
        "savefig('gridwatch.png')"
      ]
    },
    {
      "cell_type": "markdown",
      "metadata": {
        "id": "4Rx97JU_gQGV"
      },
      "source": [
        "# Optional extra exercises\n",
        "\n",
        "Those are optional and will **not** be marked."
      ]
    },
    {
      "cell_type": "markdown",
      "metadata": {
        "id": "YB06FiJ0gQGW"
      },
      "source": [
        "## Extra 1\n",
        "Write a `while loop` that tests the [Collatz conjecture](https://en.wikipedia.org/wiki/Collatz_conjecture) (see [this video](https://www.youtube.com/watch?v=094y1Z2wpJg) for a quick description) on a given input number. You should implement a break condition as for some numbers the sequence can be very long...\n",
        "\n",
        "## Extra 2\n",
        "Write a small gaming program that first generates a random number between 1 and 9 (try with integers as well as floating point numbers). The program should then ask the user to guess what the number is, and tell them whether their guess is correct, too high or too low. In addition:\n",
        "  - keep the game going until the user types \"exit\" (add that string to the documentation for your program!).\n",
        "  - keep track of how many guesses the user has taken, and when the game ends, print it out.\n",
        "  \n",
        "## Extra 3\n",
        "How about a nice game of ... hangman ! Have the program set a word, and ask the user to guess letters within a fixed number of turns.\n",
        "\n",
        "## Extra 4\n",
        "Text-based adventure game ! There are many such classics, you should be able to make your own ! To make it more user-friendly, instead of checking that the user typed exactly \"yes\" or \"left\" or \"sword\", you can set-up list of possible answers, e.g.:\n",
        "```python\n",
        "yes = [\"Y\", \"y\", \"yes\", \"yeah\", \"yup\"]\n",
        "no = [\"N\", \"n\", \"no\", \"nope\"]\n",
        "```\n",
        "And check whether the input text is in the list `yes` or the list `no`."
      ]
    },
    {
      "cell_type": "code",
      "execution_count": null,
      "metadata": {
        "id": "YEkdOTb9gQGW"
      },
      "outputs": [],
      "source": []
    }
  ],
  "metadata": {
    "kernelspec": {
      "display_name": "Python 3",
      "language": "python",
      "name": "python3"
    },
    "language_info": {
      "codemirror_mode": {
        "name": "ipython",
        "version": 3
      },
      "file_extension": ".py",
      "mimetype": "text/x-python",
      "name": "python",
      "nbconvert_exporter": "python",
      "pygments_lexer": "ipython3",
      "version": "3.7.10"
    },
    "colab": {
      "provenance": []
    }
  },
  "nbformat": 4,
  "nbformat_minor": 0
}